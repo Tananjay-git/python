{
  "nbformat": 4,
  "nbformat_minor": 0,
  "metadata": {
    "colab": {
      "provenance": [],
      "authorship_tag": "ABX9TyNAh882HMTzsJSxCLQe0jmq",
      "include_colab_link": true
    },
    "kernelspec": {
      "name": "python3",
      "display_name": "Python 3"
    },
    "language_info": {
      "name": "python"
    }
  },
  "cells": [
    {
      "cell_type": "markdown",
      "metadata": {
        "id": "view-in-github",
        "colab_type": "text"
      },
      "source": [
        "<a href=\"https://colab.research.google.com/github/Tananjay-git/python/blob/main/shopping_Cart_System.ipynb\" target=\"_parent\"><img src=\"https://colab.research.google.com/assets/colab-badge.svg\" alt=\"Open In Colab\"/></a>"
      ]
    },
    {
      "cell_type": "markdown",
      "source": [
        "❓ Problem Statement:\n",
        "You are building a basic shopping cart system for an online store. Implement a simple cart using Python data structures (list, set, and dict) to handle the following operations:\n",
        "\n",
        "Add an item to the cart\n",
        "\n",
        "Remove an item from the cart\n",
        "\n",
        "View the current cart contents\n",
        "\n",
        "📋 Requirements:\n",
        "The cart should track item names and their quantities.\n",
        "\n",
        "When an item is added:\n",
        "\n",
        "If it's already in the cart, increment its quantity.\n",
        "\n",
        "If it's not in the cart, add it with quantity 1.\n",
        "\n",
        "When an item is removed:\n",
        "\n",
        "If its quantity becomes 0, remove it completely from the cart.\n",
        "\n",
        "If it’s not in the cart, show a message.\n",
        "\n",
        "Provide a function to display all items and their quantities in the cart.\n",
        "\n",
        "🧪 Sample Usage:\n",
        "\n",
        "add_item(\"apple\")\n",
        "\n",
        "add_item(\"banana\")\n",
        "\n",
        "add_item(\"apple\")\n",
        "\n",
        "remove_item(\"banana\")\n",
        "\n",
        "view_cart()\n",
        "\n",
        "💡 Expected Output:\n",
        "\n",
        "apple (x2)\n",
        "\n",
        "✅ Constraints:\n",
        "\n",
        "Use a dictionary to store the cart (item_name as key, quantity as value).\n",
        "\n",
        "Use functions to modularize the logic:\n",
        "\n",
        "add_item(item)\n",
        "\n",
        "remove_item(item)\n",
        "\n",
        "view_cart()\n",
        "\n",
        "You can use a set if you want to track unique items separately.\n",
        "\n",
        "Optionally use a list to simulate an “add/remove history.”\n",
        "\n",
        "🔁 Bonus Challenges (Optional):\n",
        "\n",
        "Add a clear_cart() function to empty the cart.\n",
        "\n",
        "Add a get_total_items() function to return total quantity.\n",
        "\n",
        "Keep a log of added/removed items using a list."
      ],
      "metadata": {
        "id": "vV7rQ790_zWV"
      }
    },
    {
      "cell_type": "code",
      "source": [
        "cart = {}\n",
        "count = 0\n",
        "\n",
        "def add_item(item):\n",
        "  global count\n",
        "  if item in cart:\n",
        "    cart[item] += 1\n",
        "    count += 1\n",
        "  else:\n",
        "    cart[item] = 1\n",
        "    count += 1\n",
        "\n",
        "def remove_item(item):\n",
        "  global count\n",
        "  if item in cart:\n",
        "    cart[item] -= 1\n",
        "    count -= 1\n",
        "    if cart[item] == 0:\n",
        "      del cart[item]\n",
        "  else:\n",
        "    return \"Not in Cart\"\n",
        "\n",
        "def view_cart():\n",
        "  return cart\n",
        "\n",
        "def clear_cart():\n",
        "  global count\n",
        "  if count == 0:\n",
        "    return 'Empty cart!'\n",
        "  cart.clear()\n",
        "  count = 0\n",
        "\n",
        "def get_total_items():\n",
        "  global count\n",
        "  if count == 0:\n",
        "    return 'Empty cart!'\n",
        "  return count\n",
        "\n"
      ],
      "metadata": {
        "id": "nPDMt0Kk_34k"
      },
      "execution_count": 64,
      "outputs": []
    },
    {
      "cell_type": "code",
      "source": [
        "add_item(\"apple\")"
      ],
      "metadata": {
        "id": "1SN4ZwIiGGNj"
      },
      "execution_count": 57,
      "outputs": []
    },
    {
      "cell_type": "code",
      "source": [
        "add_item(\"banana\")"
      ],
      "metadata": {
        "id": "tkh4XO0kG4FP"
      },
      "execution_count": 67,
      "outputs": []
    },
    {
      "cell_type": "code",
      "source": [
        "remove_item(\"banana\")"
      ],
      "metadata": {
        "id": "YLEsdogpG8PZ"
      },
      "execution_count": 47,
      "outputs": []
    },
    {
      "cell_type": "code",
      "source": [
        "view_cart()"
      ],
      "metadata": {
        "colab": {
          "base_uri": "https://localhost:8080/"
        },
        "id": "JQih3Us-GtEc",
        "outputId": "cf89328f-11df-43af-c9ec-cf2b4b2cbbf6"
      },
      "execution_count": 69,
      "outputs": [
        {
          "output_type": "execute_result",
          "data": {
            "text/plain": [
              "{'banana': 1}"
            ]
          },
          "metadata": {},
          "execution_count": 69
        }
      ]
    },
    {
      "cell_type": "code",
      "source": [
        "get_total_items()"
      ],
      "metadata": {
        "colab": {
          "base_uri": "https://localhost:8080/",
          "height": 36
        },
        "id": "6z28Ky8CJz6q",
        "outputId": "267f0e11-b6af-41fc-8773-89212ca9bfcb"
      },
      "execution_count": 71,
      "outputs": [
        {
          "output_type": "execute_result",
          "data": {
            "text/plain": [
              "'Empty cart!'"
            ],
            "application/vnd.google.colaboratory.intrinsic+json": {
              "type": "string"
            }
          },
          "metadata": {},
          "execution_count": 71
        }
      ]
    },
    {
      "cell_type": "code",
      "source": [
        "clear_cart()"
      ],
      "metadata": {
        "colab": {
          "base_uri": "https://localhost:8080/",
          "height": 36
        },
        "id": "heNvtbvHJ-Un",
        "outputId": "870d466a-4090-46de-d84d-783449c35b24"
      },
      "execution_count": 72,
      "outputs": [
        {
          "output_type": "execute_result",
          "data": {
            "text/plain": [
              "'Empty cart!'"
            ],
            "application/vnd.google.colaboratory.intrinsic+json": {
              "type": "string"
            }
          },
          "metadata": {},
          "execution_count": 72
        }
      ]
    }
  ]
}