{
  "nbformat": 4,
  "nbformat_minor": 0,
  "metadata": {
    "colab": {
      "provenance": [],
      "authorship_tag": "ABX9TyN+lGbF41P9FoDiCvsHJDIG",
      "include_colab_link": true
    },
    "kernelspec": {
      "name": "python3",
      "display_name": "Python 3"
    },
    "language_info": {
      "name": "python"
    }
  },
  "cells": [
    {
      "cell_type": "markdown",
      "metadata": {
        "id": "view-in-github",
        "colab_type": "text"
      },
      "source": [
        "<a href=\"https://colab.research.google.com/github/Tananjay-git/python/blob/main/list.ipynb\" target=\"_parent\"><img src=\"https://colab.research.google.com/assets/colab-badge.svg\" alt=\"Open In Colab\"/></a>"
      ]
    },
    {
      "cell_type": "code",
      "execution_count": null,
      "metadata": {
        "colab": {
          "base_uri": "https://localhost:8080/"
        },
        "id": "uGQIW7fT2k4x",
        "outputId": "005b799e-b4b8-403f-c42e-b27be5efa17a"
      },
      "outputs": [
        {
          "output_type": "stream",
          "name": "stdout",
          "text": [
            "True\n"
          ]
        }
      ],
      "source": [
        "# 1) Check if \"apple\" exists in the list [\"banana\", \"apple\", \"mango\"]\n",
        "\n",
        "lis = [\"banana\", \"apple\", \"mango\"]\n",
        "\n",
        "if \"apple\" in lis:\n",
        "    print(\"True\")"
      ]
    },
    {
      "cell_type": "code",
      "source": [
        "# 2) Create a list of 10 numbers and print only the even numbers.\n",
        "l = [1,2,3,4,5,6,7,8,9,10]\n",
        "for i in l :\n",
        "  if i % 2 == 0:\n",
        "    print(i)"
      ],
      "metadata": {
        "colab": {
          "base_uri": "https://localhost:8080/"
        },
        "id": "oyj42wia3BJl",
        "outputId": "5033b460-052e-4b8f-e9a2-f839f1a6ba82"
      },
      "execution_count": null,
      "outputs": [
        {
          "output_type": "stream",
          "name": "stdout",
          "text": [
            "2\n",
            "4\n",
            "6\n",
            "8\n",
            "10\n"
          ]
        }
      ]
    },
    {
      "cell_type": "code",
      "source": [
        "# 3) Write a program to reverse a list in two ways\n",
        "l = [1,2,3,4,5,6,7,8,9,10]\n",
        "print(l[::-1])\n",
        "print(l)\n",
        "l.reverse()\n",
        "print(l)"
      ],
      "metadata": {
        "colab": {
          "base_uri": "https://localhost:8080/"
        },
        "id": "ouMPKOXG4MX8",
        "outputId": "f3c2c3d7-4c63-44d1-a317-df34b785879f"
      },
      "execution_count": null,
      "outputs": [
        {
          "output_type": "stream",
          "name": "stdout",
          "text": [
            "[10, 9, 8, 7, 6, 5, 4, 3, 2, 1]\n",
            "[1, 2, 3, 4, 5, 6, 7, 8, 9, 10]\n",
            "[10, 9, 8, 7, 6, 5, 4, 3, 2, 1]\n"
          ]
        }
      ]
    },
    {
      "cell_type": "code",
      "source": [
        "# Given a list nums = [1, 2, 3, 4, 5],\n",
        "# Append 6\n",
        "# Insert 0 at the beginning\n",
        "# Remove the number 3.\n",
        "\n",
        "nums = [1, 2, 3, 4, 5]\n",
        "print(nums)\n",
        "nums.append(6)\n",
        "print(nums)\n",
        "nums.insert(0,0)\n",
        "print(nums)\n",
        "nums.remove(3)\n",
        "print(nums)\n"
      ],
      "metadata": {
        "colab": {
          "base_uri": "https://localhost:8080/"
        },
        "id": "adwv09Jk56ED",
        "outputId": "e771add7-c9a7-458f-ebe5-1524281cdf02"
      },
      "execution_count": null,
      "outputs": [
        {
          "output_type": "stream",
          "name": "stdout",
          "text": [
            "[1, 2, 3, 4, 5]\n",
            "[1, 2, 3, 4, 5, 6]\n",
            "[0, 1, 2, 3, 4, 5, 6]\n",
            "[0, 1, 2, 4, 5, 6]\n"
          ]
        }
      ]
    },
    {
      "cell_type": "code",
      "source": [
        "# 5) Write a program to find the maximum and minimum numbers in a list.\n",
        "l = [1,4,3,7,9,11,45,12,92,8]\n",
        "\n",
        "max = min = l[0]\n",
        "for i in l:\n",
        "  if i > max:\n",
        "    max = i\n",
        "  if i < min:\n",
        "    min = i\n",
        "\n",
        "print(max, min)\n"
      ],
      "metadata": {
        "colab": {
          "base_uri": "https://localhost:8080/"
        },
        "id": "sHjFKQsG6gIi",
        "outputId": "925f6390-d184-427f-afe6-142a9f437363"
      },
      "execution_count": null,
      "outputs": [
        {
          "output_type": "stream",
          "name": "stdout",
          "text": [
            "92 1\n"
          ]
        }
      ]
    },
    {
      "cell_type": "code",
      "source": [
        "# 6) Given a list of numbers, calculate the sum of elements without using\n",
        "l = [2,3,5]\n",
        "print(sum(l[::]))"
      ],
      "metadata": {
        "colab": {
          "base_uri": "https://localhost:8080/"
        },
        "id": "gEQ8dbzk8-qB",
        "outputId": "ac0722eb-6ea8-4fd9-e51d-b1c5bf0e0254"
      },
      "execution_count": null,
      "outputs": [
        {
          "output_type": "stream",
          "name": "stdout",
          "text": [
            "10\n"
          ]
        }
      ]
    },
    {
      "cell_type": "code",
      "source": [
        "# 7) Write a program to remove duplicates from this list:\n",
        "nums = [1, 2, 2, 3, 4, 4, 5]\n",
        "f = []\n",
        "for i in nums:\n",
        "  if i not in f:\n",
        "    f.append(i)\n",
        "\n",
        "print(nums)\n",
        "print(f)"
      ],
      "metadata": {
        "colab": {
          "base_uri": "https://localhost:8080/"
        },
        "id": "wSj18GOM9jql",
        "outputId": "308cec34-02b1-4f6d-bf83-9e1edcc1ed93"
      },
      "execution_count": null,
      "outputs": [
        {
          "output_type": "stream",
          "name": "stdout",
          "text": [
            "[1, 2, 2, 3, 4, 4, 5]\n",
            "[1, 2, 3, 4, 5]\n"
          ]
        }
      ]
    },
    {
      "cell_type": "code",
      "source": [
        "# 8) swap the first and last elements.\n",
        "nums = [10, 20, 30, 40, 50]\n",
        "print(nums)\n",
        "nums[0], nums[len(nums)-1] = nums[len(nums)-1], nums[0]\n",
        "print(nums)"
      ],
      "metadata": {
        "colab": {
          "base_uri": "https://localhost:8080/"
        },
        "id": "XvA1MO0G_IAI",
        "outputId": "3de3525a-5167-4998-cca7-2b6facaa0a30"
      },
      "execution_count": null,
      "outputs": [
        {
          "output_type": "stream",
          "name": "stdout",
          "text": [
            "[10, 20, 30, 40, 50]\n",
            "[50, 20, 30, 40, 10]\n"
          ]
        }
      ]
    },
    {
      "cell_type": "code",
      "source": [
        "# Given two lists:\n",
        "a = [1, 2, 3]\n",
        "b = [4, 5, 6]\n",
        "# Combine them into one list [1,2,3,4,5,6] without using +\n",
        "f = []\n",
        "\n",
        "for i in a:\n",
        "  f.append(i)\n",
        "for i in b:\n",
        "  f.append(i)\n",
        "print(f)"
      ],
      "metadata": {
        "colab": {
          "base_uri": "https://localhost:8080/"
        },
        "id": "sw6IcuwkAiQy",
        "outputId": "e0365bfc-90eb-4bdb-e0d0-581b349c13f7"
      },
      "execution_count": null,
      "outputs": [
        {
          "output_type": "stream",
          "name": "stdout",
          "text": [
            "[1, 2, 3, 4, 5, 6]\n"
          ]
        }
      ]
    },
    {
      "cell_type": "code",
      "source": [
        "a = [1, 2, 3]\n",
        "b = [4, 5, 6]\n",
        "\n",
        "f = []\n",
        "f.extend(a)\n",
        "f.extend(b)\n",
        "\n",
        "print(f)\n"
      ],
      "metadata": {
        "colab": {
          "base_uri": "https://localhost:8080/"
        },
        "id": "AjXyELSXkx52",
        "outputId": "bc5fad64-fec5-44c2-c5ba-5ef732c13759"
      },
      "execution_count": 5,
      "outputs": [
        {
          "output_type": "stream",
          "name": "stdout",
          "text": [
            "[1, 2, 3, 4, 5, 6]\n"
          ]
        }
      ]
    },
    {
      "cell_type": "code",
      "source": [
        "# Write a program to find the second largest element in a list\n",
        "l = [1,4,3,7,9,11,45,12,87,92,8]\n",
        "s = l[0]\n",
        "m = max(l)\n",
        "for i in l:\n",
        "  if i < m and i >= s :\n",
        "    s =  i\n",
        "\n",
        "print(s)\n"
      ],
      "metadata": {
        "id": "T999ajBsCNdf",
        "colab": {
          "base_uri": "https://localhost:8080/"
        },
        "outputId": "ea571825-4347-45db-e51e-28fa0d5387a5"
      },
      "execution_count": 4,
      "outputs": [
        {
          "output_type": "stream",
          "name": "stdout",
          "text": [
            "87\n"
          ]
        }
      ]
    },
    {
      "cell_type": "code",
      "source": [
        "# Flatten this nested list:\n",
        "l = [[1, 2], [3, 4], [5, 6]]\n",
        "f = []\n",
        "for i in l:\n",
        "  f.extend(i)\n",
        "print(f)"
      ],
      "metadata": {
        "colab": {
          "base_uri": "https://localhost:8080/"
        },
        "id": "1zd8GsrEk-ro",
        "outputId": "55ded70a-1336-4b3e-f2d1-93be0ad3299a"
      },
      "execution_count": 7,
      "outputs": [
        {
          "output_type": "stream",
          "name": "stdout",
          "text": [
            "[1, 2, 3, 4, 5, 6]\n"
          ]
        }
      ]
    },
    {
      "cell_type": "code",
      "source": [
        "# Write a program to check if a list is palindrome.\n",
        "l = [1,2,3,7,1]\n",
        "if l == (l[::-1]):\n",
        "  print('True')\n",
        "else:\n",
        "  print('False')"
      ],
      "metadata": {
        "colab": {
          "base_uri": "https://localhost:8080/"
        },
        "id": "Dr7fobvfptFM",
        "outputId": "bcf04e57-a3b3-4e89-8f10-799b188b9037"
      },
      "execution_count": 13,
      "outputs": [
        {
          "output_type": "stream",
          "name": "stdout",
          "text": [
            "False\n"
          ]
        }
      ]
    },
    {
      "cell_type": "code",
      "source": [
        "# Sort a list of words by their length.\n",
        "# Example: [\"apple\", \"kiwi\", \"banana\"] → [\"kiwi\", \"apple\", \"banana\"].\n",
        "l =  [\"apple\", \"kiwi\", \"banana\"]\n",
        "op = []\n",
        "for i in range(0,len(l)):\n",
        "  if len(l[i]) > len(op[i]):\n",
        "    op.append(l[i])\n",
        "print(len(op))\n",
        ""
      ],
      "metadata": {
        "colab": {
          "base_uri": "https://localhost:8080/"
        },
        "id": "hdFs5Vq75xFF",
        "outputId": "0c7d05fe-8227-489f-d788-d08ee01b4dad"
      },
      "execution_count": 11,
      "outputs": [
        {
          "output_type": "stream",
          "name": "stdout",
          "text": [
            "0\n"
          ]
        }
      ]
    },
    {
      "cell_type": "code",
      "source": [
        "# Write a program to split a list into 2 parts: first half and second half.\n",
        "l = [1,4,3,7,9,11,45,12,87,92,8]\n",
        "print(l[0:(len(l)//2)])\n",
        "print(l[(len(l)//2):-1])"
      ],
      "metadata": {
        "colab": {
          "base_uri": "https://localhost:8080/"
        },
        "id": "qEvj6ROnh_qW",
        "outputId": "ebbdde7a-c8e3-4c56-8356-5ac49d4c579f"
      },
      "execution_count": 5,
      "outputs": [
        {
          "output_type": "stream",
          "name": "stdout",
          "text": [
            "[1, 4, 3, 7, 9]\n",
            "[11, 45, 12, 87, 92]\n"
          ]
        }
      ]
    }
  ]
}