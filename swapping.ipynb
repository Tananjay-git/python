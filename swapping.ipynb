{
  "nbformat": 4,
  "nbformat_minor": 0,
  "metadata": {
    "colab": {
      "provenance": [],
      "authorship_tag": "ABX9TyNbcZMTGvUOUVip/ZsGT9MI",
      "include_colab_link": true
    },
    "kernelspec": {
      "name": "python3",
      "display_name": "Python 3"
    },
    "language_info": {
      "name": "python"
    }
  },
  "cells": [
    {
      "cell_type": "markdown",
      "metadata": {
        "id": "view-in-github",
        "colab_type": "text"
      },
      "source": [
        "<a href=\"https://colab.research.google.com/github/Tananjay-git/python/blob/main/swapping.ipynb\" target=\"_parent\"><img src=\"https://colab.research.google.com/assets/colab-badge.svg\" alt=\"Open In Colab\"/></a>"
      ]
    },
    {
      "cell_type": "markdown",
      "source": [
        "Write a program to swap two numbers"
      ],
      "metadata": {
        "id": "BeCxNh63xmK4"
      }
    },
    {
      "cell_type": "code",
      "source": [
        "# With extra variable\n",
        "a = 10\n",
        "b = 49\n",
        "print(\"a = \"+ str(a), \"b = \"+ str(b))\n",
        "c = a\n",
        "a = b\n",
        "b = c\n",
        "print(\"a = \"+ str(a), \"b = \"+ str(b))"
      ],
      "metadata": {
        "colab": {
          "base_uri": "https://localhost:8080/"
        },
        "id": "gEuslA4Cxbab",
        "outputId": "881f3459-e6dd-4589-b31e-b17d4dad5614"
      },
      "execution_count": 1,
      "outputs": [
        {
          "output_type": "stream",
          "name": "stdout",
          "text": [
            "a = 10 b = 49\n",
            "a = 49 b = 10\n"
          ]
        }
      ]
    },
    {
      "cell_type": "code",
      "source": [
        "# Without 3rd variable\n",
        "\n",
        "a = 10\n",
        "b = 49\n",
        "print(\"a = \"+ str(a), \"b = \"+ str(b))\n",
        "\n",
        "a = a+b\n",
        "b = a-b\n",
        "a = a-b\n",
        "print( \"a = \"+ str(a), \"b = \"+ str(b))"
      ],
      "metadata": {
        "id": "WMcBd9zYydXc",
        "colab": {
          "base_uri": "https://localhost:8080/"
        },
        "outputId": "3ecbb967-a423-42d5-9408-764a0be6bcc6"
      },
      "execution_count": 5,
      "outputs": [
        {
          "output_type": "stream",
          "name": "stdout",
          "text": [
            "a = 10 b = 49\n",
            "a = 49 b = 10\n"
          ]
        }
      ]
    },
    {
      "cell_type": "code",
      "source": [
        "# Without 3rd variable\n",
        "\n",
        "a = 10\n",
        "b = 49\n",
        "print(\"a = \"+ str(a), \"b = \"+ str(b))\n",
        "\n",
        "a = a*b\n",
        "b = a/b\n",
        "a = a/b\n",
        "print(\"a = \"+ str(a), \"b = \"+ str(b))"
      ],
      "metadata": {
        "colab": {
          "base_uri": "https://localhost:8080/"
        },
        "id": "s12sA17Y-2Ue",
        "outputId": "0366c19c-bb2e-4085-ee9f-659729106875"
      },
      "execution_count": 6,
      "outputs": [
        {
          "output_type": "stream",
          "name": "stdout",
          "text": [
            "a = 10 b = 49\n",
            "a = 49.0 b = 10.0\n"
          ]
        }
      ]
    },
    {
      "cell_type": "code",
      "source": [
        "# Without 3rd variable\n",
        "\n",
        "a = 10\n",
        "b = 49\n",
        "print(\"a = \"+ str(a), \"b = \"+ str(b))\n",
        "\n",
        "a,b = b,a\n",
        "print(\"a = \"+ str(a), \"b = \"+ str(b))"
      ],
      "metadata": {
        "colab": {
          "base_uri": "https://localhost:8080/"
        },
        "id": "aGjQvxkH_CQw",
        "outputId": "0a9feea0-dc8f-4d82-cd4c-d9f3bc82ca05"
      },
      "execution_count": 7,
      "outputs": [
        {
          "output_type": "stream",
          "name": "stdout",
          "text": [
            "a = 10 b = 49\n",
            "a = 49 b = 10\n"
          ]
        }
      ]
    }
  ]
}